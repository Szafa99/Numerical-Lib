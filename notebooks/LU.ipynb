{
 "cells": [
  {
   "cell_type": "markdown",
   "metadata": {},
   "source": [
    "| Imię Nazwisko | Kierunek | Data |\n",
    "| :-: | :-: | :-: |\n",
    "| Andrzej Szafarczyk | Informatyka Techniczna |  29.03.2021 |\n"
   ]
  },
  {
   "cell_type": "markdown",
   "metadata": {},
   "source": [
    "### Rozkład LU występuje, kiedy macierz A można wyrazić jako iloczyn macierzy trójkątnej dolnej L i trójkątnej górnej U:\n",
    "A=LU\n",
    "\n",
    "Rozwiązanie układu równań Ax=b dzieli się wtedy na dwa etapy:\n",
    "\n",
    "\n",
    "• Rozwiązywanie: Lz=b , względem z\n",
    "\n",
    "• Rozwiązywanie: Ux=z , względem x\n",
    "\n",
    "Rozwiązanie tego typu układów jest bardzo proste przy zastosowaniu algorytmów:\n",
    "\n",
    "• Podstawiania w przód dla macierzy L\n",
    "\n",
    "• Podstawiania wstecz dla macierzy U\n",
    "\n",
    "Trzeba zaznaczyć, że rozkład LU nie dla każdej macierzy istnieje.\n",
    "\n",
    "\n",
    "\n",
    "### Algorytm rozkładu Cholesky’ego (rozkład Banachiewicza) macierzy na czynniki LL\n",
    "T. Taki rozkład jest możliwy, gdy macierz A jest:\n",
    "\n",
    "• Rzeczywista\n",
    "\n",
    "• Symetryczna\n",
    "\n",
    "• Dodatnio określona\n",
    "\n",
    "Występuje wtedy rozkład na czynniki A=L LT taki, że L jest macierzą dolną trójkątną o elementach dodatnich na głównej przekątnej."
   ]
  },
  {
   "cell_type": "markdown",
   "metadata": {},
   "source": [
    "### Zad1 Forward i Backward sub\n",
    "\n",
    "Forward sub"
   ]
  },
  {
   "cell_type": "code",
   "execution_count": 127,
   "metadata": {},
   "outputs": [],
   "source": [
    "import numpy as np\n",
    "import math\n",
    "import scipy.linalg as la\n",
    "a = np.array(\n",
    "    [\n",
    "        [6,    0,    0,    4], \n",
    "        [12,    -8,    0,    10],\n",
    "        [3,    -13,    9,    3],\n",
    "        [-6,    4,    1,    -18]\n",
    "     ], float)\n",
    "b = np.array([ 12,34,27,-38 ], float)\n",
    "Acpy = np.copy(a)\n",
    "Bcpy = np.copy(b)\n",
    "n = len(b)\n",
    "result = np.zeros(n, float)\n",
    "remember = np.arange(0,n,1 )"
   ]
  },
  {
   "cell_type": "code",
   "execution_count": 128,
   "metadata": {},
   "outputs": [
    {
     "name": "stdout",
     "output_type": "stream",
     "text": [
      "[[  6.     0.     0.     4.  ]\n",
      " [  0.    -8.     0.     2.  ]\n",
      " [  0.     0.     9.    -2.25]\n",
      " [  0.     0.     0.   -12.75]]\n"
     ]
    }
   ],
   "source": [
    "def forwardSub():\n",
    "    for k in range(n - 1):\n",
    "        for i in range(k + 1, n):\n",
    "            if a[k,k] == 0: continue\n",
    "            mnoznik = a[i, k] / a[k, k]\n",
    "            for j in range(k, n):\n",
    "                a[i, j] -= a[k, j]  * mnoznik\n",
    "                b[i] -= b[k] * mnoznik\n",
    "    \n",
    "forwardSub()\n",
    "print(a)\n"
   ]
  },
  {
   "cell_type": "markdown",
   "metadata": {},
   "source": [
    "Backward sub"
   ]
  },
  {
   "cell_type": "code",
   "execution_count": 129,
   "metadata": {},
   "outputs": [
    {
     "name": "stdout",
     "output_type": "stream",
     "text": [
      "[[  6.   0.   0.   4.]\n",
      " [ 12.  -8.   0.  10.]\n",
      " [  3. -13.   9.   3.]\n",
      " [ -6.   4.   1. -18.]]\n"
     ]
    }
   ],
   "source": [
    "        a=Acpy\n",
    "        def backwardSub():\n",
    "            size= n\n",
    "            if a[size-1,size-1] == 0 : result[size-1] = 0\n",
    "            else : result[size-1] = b[size-1] / a[size-1,size-1]\n",
    "\n",
    "            for i in range(size-2,-1,-1): # going from last row up\n",
    "                sumX= 0\n",
    "                for j in range(i+1,n):\n",
    "                    sumX += a[i,j] * result[j]\n",
    "\n",
    "                if a[i,i] == 0:\n",
    "                    result[i] = 0\n",
    "                else:\n",
    "                    result[i] = (b[i] - sumX) / a[i,i]\n",
    "        \n",
    "        backwardSub()    \n",
    "        print(a)\n",
    "   "
   ]
  },
  {
   "cell_type": "markdown",
   "metadata": {},
   "source": [
    "# 2.Algorytm dootlit'a - dokompozycja LU \n",
    "\n",
    "Podstawowym problemem numerycznym w tej metodzie jest dokonanie rozkładu LU macierzy współczynników. Żeby ten rozkład macierzy był jednoznaczny, zakłada się, że elementy na głównej przekątnej jednej z macierzy, L albo U, są równe 1.\n",
    "\n",
    "Rozkład LU jest wyznaczany za pomocą metody Doolittle’a.\n",
    "\n",
    "Ta metoda nie jest niezawodna, tzn. podczas obliczeń może wystąpić dzielenie przez zero.\n",
    "\n",
    " W metodzie tej równość LU traktuje się jako układ n^2n^2 niewiadomymi. Te niewiadome to elementy ij dla i>j (elementy poniżej przekątnej), oraz ij dla j>=i (elementy na i powyżej przekątnej), przy założeniu, że na diagonali macierzy L znajdują się 1\n",
    "\n"
   ]
  },
  {
   "cell_type": "code",
   "execution_count": 130,
   "metadata": {},
   "outputs": [
    {
     "name": "stdout",
     "output_type": "stream",
     "text": [
      "A\n",
      "Lower:\n",
      " [[ 1.  0.  0.]\n",
      " [ 1.  1.  0.]\n",
      " [ 2. -4.  1.]] \n",
      "Upper:\n",
      " [[  1.   4.   1.]\n",
      " [  0.   2.  -2.]\n",
      " [  0.   0. -12.]] \n",
      "\n",
      "B\n",
      "Lower:\n",
      " [[ 1.  0.  0.]\n",
      " [ 0.  1.  0.]\n",
      " [ 0. -3.  1.]] \n",
      "Upper:\n",
      " [[ 3.  0.  1.]\n",
      " [ 0. -1.  3.]\n",
      " [ 0.  0.  9.]] \n",
      "\n",
      "C\n",
      "Lower:\n",
      " [[1. 0. 0.]\n",
      " [0. 1. 0.]\n",
      " [0. 0. 1.]] \n",
      "Upper:\n",
      " [[4.       0.5      1.      ]\n",
      " [0.       1.0625   0.25    ]\n",
      " [0.       0.       0.515625]] \n",
      "\n"
     ]
    }
   ],
   "source": [
    "A=np.array( [ [1.0,4.0,1.0],[1.0,6.0,-1.0],[2.0,-1.0,-2.0] ] )\n",
    "B= np.array( [ [3,0,1],[0,-1,3,],[1,3,0] ] )\n",
    "C=np.array([ [4,1/2,1],[1/2,17/16,1/4],[1,1/4,33/64] ])\n",
    "\n",
    "\n",
    "def luDecomposition(mat):\n",
    "    n= len(mat)\n",
    "    lower = np.zeros((n,n,))\n",
    "    upper = np.zeros((n,n))\n",
    " \n",
    "    # Decomposing matrix into Upper and Lower triangular matrix\n",
    "    for i in range(n):\n",
    "        # Upper Triangular\n",
    "        for k in range(i, n):\n",
    "            sum = 0\n",
    "            for j in range(i):\n",
    "                sum += (lower[i][j] * upper[j][k])\n",
    " \n",
    "            upper[i][k] = mat[i][k] - sum\n",
    " \n",
    "        # Lower Triangular\n",
    "        for k in range(i, n):\n",
    "            if (i == k):\n",
    "                lower[i][i] = 1  # Diagonal as 1\n",
    "            else:\n",
    " \n",
    "                # Summation of L(k, j) * U(j, i)\n",
    "                sum = 0\n",
    "                for j in range(i):\n",
    "                    sum += (lower[k][j] * upper[j][i])\n",
    " \n",
    "                # Evaluating L(k, i)\n",
    "                lower[k][i] = int((mat[k][i] - sum)/upper[i][i])\n",
    "    return (lower,upper)\n",
    "\n",
    "dic = ['A','B','C']\n",
    "\n",
    "for x,label in zip([A,B,C],dic):\n",
    "    print(label)\n",
    "    lower,upper = luDecomposition(x)\n",
    "    print ('Lower:\\n',lower,'\\nUpper:\\n',upper,'\\n')\n",
    "\n"
   ]
  },
  {
   "cell_type": "markdown",
   "metadata": {},
   "source": [
    " # Algorytm rozkładu Choleskiego-Banachiewicza\n",
    "Rozkład Choleskiego lub rozkład Banachiewicza jest procedurą rozkładu symetrycznej, dodatnio określonej macierzy A na iloczyn postaci:\n",
    "\n",
    "A=LL^T\n",
    "gdzie L jest dolną macierzą trójkątną, a L^T jej transpozycją.\n",
    "\n",
    "Macierz dowolnego typu można rozłożyć na iloczyn dolnej i górnej macierzy trójkątnej postaci A=LU stosując metodę LU. Jedynie w przypadku macierzy symetrycznych i dodatnio określonych możliwy jest rozkład Choleskiego. Jeśli A jest dodatnio określoną macierzą hermitowską to rozkład Choleskiego ma postać:\n",
    "\n",
    "A=LL*\n",
    "\n",
    "Podobnie jak rozkład LU, rozkład Choleskiego stosuje się w rozwiązywaniu równań liniowych. Stosuje się go również przy generowaniu wektorów losowych o wielowymiarowym rozkładzie normalnym.\n",
    "\n",
    "Aby zastosować rozkład Choleskiego do rozwiązywania układów równań z niesymetryczną macierzą główną układu należy pomnożyć lewostronnie układ równań przez transpozycję macierzy głównej układu"
   ]
  },
  {
   "cell_type": "markdown",
   "metadata": {},
   "source": [
    "### Algorytm choleskiego"
   ]
  },
  {
   "cell_type": "code",
   "execution_count": 131,
   "metadata": {},
   "outputs": [
    {
     "name": "stdout",
     "output_type": "stream",
     "text": [
      "Diaganalne elementy muszą być większe od zera\n",
      "Diaganalne elementy muszą być większe od zera\n",
      "Macierz A po algorytmie choleski:\n",
      " None \n",
      "\n",
      "Macierz B po algorytmie choleski:\n",
      " None \n",
      "\n",
      "Macierz C po algorytmie choleski:\n",
      " [[ 2.44948974  0.          0.          0.        ]\n",
      " [ 1.22474487  2.12132034  0.          0.        ]\n",
      " [ 1.63299316  1.41421356  2.30940108  0.        ]\n",
      " [ 3.26598632 -1.41421356  1.58771324  3.13249102]] \n",
      "\n"
     ]
    }
   ],
   "source": [
    "A = np.array( [ [1,3],[-5,16] ] )\n",
    "B = np.array( [ [4,1/2,1],[1/2,17/16,1/4,],[11,1/4,33/64] ])\n",
    "C = np.array([[6, 3, 4, 8], [3, 6, 5, 1], [4, 5, 10, 7], [8, 1, 7, 25]])\n",
    "\n",
    "def choleski(A):\n",
    "    n = len(A)\n",
    "    L = np.zeros( (n,n) )\n",
    "\n",
    "    # Cholesky decomposition\n",
    "    for i in range(n):\n",
    "        for k in range(i+1):\n",
    "            tmp_sum = sum(L[i][j] * L[k][j] for j in range(k))\n",
    "            \n",
    "            if (i == k): # Diagonal elements\n",
    "                if( (A[i][i] - tmp_sum)<0):\n",
    "                    print(\"Diaganalne elementy muszą być większe od zera\")\n",
    "                    return None\n",
    "                else:   \n",
    "                    L[i][k] = math.sqrt(A[i][i] - tmp_sum)\n",
    "            else:\n",
    "                L[i][k] = (1.0 / L[k][k] * (A[i][k] - tmp_sum))\n",
    "    return L\n",
    "\n",
    "\n",
    "Lb = choleski(B)\n",
    "La = choleski(A)\n",
    "Lc = choleski(C)\n",
    "\n",
    "print('Macierz A po algorytmie choleski:\\n',La,'\\n')\n",
    "print('Macierz B po algorytmie choleski:\\n',Lb,'\\n')\n",
    "print('Macierz C po algorytmie choleski:\\n',Lc,'\\n')\n"
   ]
  },
  {
   "cell_type": "markdown",
   "metadata": {},
   "source": [
    "#### Sprawdzenie czy A=L*LT "
   ]
  },
  {
   "cell_type": "code",
   "execution_count": 132,
   "metadata": {},
   "outputs": [
    {
     "name": "stdout",
     "output_type": "stream",
     "text": [
      "\n",
      "Sprawdzenie czy macierz jest równa macierzy pierwotnej\n",
      " [[ 6.  3.  4.  8.]\n",
      " [ 3.  6.  5.  1.]\n",
      " [ 4.  5. 10.  7.]\n",
      " [ 8.  1.  7. 25.]] \n",
      "\n",
      "Macierz pierwotna C \n",
      " [[ 6  3  4  8]\n",
      " [ 3  6  5  1]\n",
      " [ 4  5 10  7]\n",
      " [ 8  1  7 25]]\n"
     ]
    }
   ],
   "source": [
    "\n",
    "if La != None:\n",
    "    Lta= La@La.T # Transformacja otrzymanej macierzy i przemnożenie jej przez macierz z algorytmu chleskiego\n",
    "    print('Sprawdzenie czy macierz jest równa macierzy pierwotnej\\n',Lta,'\\n')\n",
    "    print('Macierz pierwotna A\\n',A)\n",
    "\n",
    "\n",
    "if Lb != None:\n",
    "    Ltb= Lb@Lb.T\n",
    "    print('\\nSprawdzenie czy macierz jest równa mcierzy pierwotnej\\n',Ltb,'\\n')\n",
    "    print('Macierz pierwotna B \\n',B)\n",
    "if Lc.any() != None:\n",
    "    Ltc= Lc@Lc.T\n",
    "    print('\\nSprawdzenie czy macierz jest równa macierzy pierwotnej\\n',Ltc,'\\n')\n",
    "    print('Macierz pierwotna C \\n',C)"
   ]
  },
  {
   "cell_type": "markdown",
   "metadata": {},
   "source": [
    "# 4. Znaleźć rozkład LU i LLT, dla następującej macierzy:"
   ]
  },
  {
   "cell_type": "code",
   "execution_count": 133,
   "metadata": {},
   "outputs": [],
   "source": [
    "AA=np.array([ \n",
    "             [136.01,90.86,0.0,0.0],\n",
    "             [90.86,98.81,-67.59,0.0],\n",
    "             [0.0,-67.59,132.01,46.26],\n",
    "             [0.0,0.0,46.26,177.17]\n",
    "])\n"
   ]
  },
  {
   "cell_type": "markdown",
   "metadata": {},
   "source": [
    "### 1.Rozkład LU"
   ]
  },
  {
   "cell_type": "code",
   "execution_count": 134,
   "metadata": {},
   "outputs": [
    {
     "name": "stdout",
     "output_type": "stream",
     "text": [
      "Lower:\n",
      " [[1. 0. 0. 0.]\n",
      " [0. 1. 0. 0.]\n",
      " [0. 0. 1. 0.]\n",
      " [0. 0. 0. 1.]] \n",
      "Upper:\n",
      " [[136.01  90.86   0.     0.  ]\n",
      " [  0.    98.81 -67.59   0.  ]\n",
      " [  0.     0.   132.01  46.26]\n",
      " [  0.     0.     0.   177.17]] \n",
      "\n",
      "Lower * upper=\n",
      " [[136.01  90.86   0.     0.  ]\n",
      " [  0.    98.81 -67.59   0.  ]\n",
      " [  0.     0.   132.01  46.26]\n",
      " [  0.     0.     0.   177.17]]\n"
     ]
    }
   ],
   "source": [
    "\n",
    "\n",
    "lower,upper = luDecomposition(np.copy(AA))\n",
    "print ('Lower:\\n',lower,'\\nUpper:\\n',upper,'\\n')\n",
    "\n",
    "A=lower@upper\n",
    "print(\"Lower * upper=\\n\",A)\n",
    "\n",
    "\n"
   ]
  },
  {
   "cell_type": "markdown",
   "metadata": {},
   "source": [
    "Jak widać algorytm poprawnie rozłożył macierz na macierz trójkątną górną i dolną,a ich wynik mnożenia jest równy macierzy pierwotnej."
   ]
  },
  {
   "cell_type": "markdown",
   "metadata": {},
   "source": [
    "### Rozkład LLT"
   ]
  },
  {
   "cell_type": "code",
   "execution_count": 135,
   "metadata": {},
   "outputs": [
    {
     "name": "stdout",
     "output_type": "stream",
     "text": [
      "Macierz A po algorytmie choleski:\n",
      " [[ 11.66233253   0.           0.           0.        ]\n",
      " [  7.7908943    6.17348897   0.           0.        ]\n",
      " [  0.         -10.94842809   3.48452614   0.        ]\n",
      " [  0.           0.          13.27583668   0.96029183]] \n",
      "\n",
      "\n",
      "Sprawdzenie czy macierz jest równa macierzy pierwotnej\n",
      " [[136.01  90.86   0.     0.  ]\n",
      " [ 90.86  98.81 -67.59   0.  ]\n",
      " [  0.   -67.59 132.01  46.26]\n",
      " [  0.     0.    46.26 177.17]] \n",
      "\n",
      "Macierz pierwotna C \n",
      " [[136.01  90.86   0.     0.  ]\n",
      " [ 90.86  98.81 -67.59   0.  ]\n",
      " [  0.   -67.59 132.01  46.26]\n",
      " [  0.     0.    46.26 177.17]]\n"
     ]
    }
   ],
   "source": [
    "Lc = choleski(AA)\n",
    "\n",
    "print('Macierz A po algorytmie choleski:\\n',Lc,'\\n')\n",
    "Ltc= Lc@Lc.T\n",
    "print('\\nSprawdzenie czy macierz jest równa macierzy pierwotnej\\n',Ltc,'\\n')\n",
    "print('Macierz pierwotna C \\n',AA)\n"
   ]
  },
  {
   "cell_type": "markdown",
   "metadata": {},
   "source": [
    "Jak widać, otrzymano tę samą macierz"
   ]
  },
  {
   "cell_type": "markdown",
   "metadata": {},
   "source": [
    "### 5.Algorytm Gaussa Crouta został zawarty w poprzednim sprawozdaniu"
   ]
  },
  {
   "cell_type": "code",
   "execution_count": null,
   "metadata": {},
   "outputs": [],
   "source": []
  }
 ],
 "metadata": {
  "kernelspec": {
   "display_name": "Python 3.6.9 64-bit",
   "name": "python369jvsc74a57bd031f2aee4e71d21fbe5cf8b01ff0e069b9275f58929596ceb00d14d90e3e16cd6"
  },
  "language_info": {
   "codemirror_mode": {
    "name": "ipython",
    "version": 3
   },
   "file_extension": ".py",
   "mimetype": "text/x-python",
   "name": "python",
   "nbconvert_exporter": "python",
   "pygments_lexer": "ipython3",
   "version": "3.6.9-final"
  },
  "metadata": {
   "interpreter": {
    "hash": "31f2aee4e71d21fbe5cf8b01ff0e069b9275f58929596ceb00d14d90e3e16cd6"
   }
  }
 },
 "nbformat": 4,
 "nbformat_minor": 2
}
